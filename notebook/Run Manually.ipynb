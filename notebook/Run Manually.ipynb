{
 "cells": [
  {
   "cell_type": "code",
   "execution_count": 1,
   "metadata": {},
   "outputs": [
    {
     "name": "stderr",
     "output_type": "stream",
     "text": [
      "Using TensorFlow backend.\n"
     ]
    }
   ],
   "source": [
    "import os\n",
    "import sqlite3\n",
    "\n",
    "import lime.lime_text\n",
    "import numpy\n",
    "import pandas\n",
    "\n",
    "import input_vector_util\n",
    "import harness_util"
   ]
  },
  {
   "cell_type": "code",
   "execution_count": 2,
   "metadata": {},
   "outputs": [],
   "source": [
    "PERSIST_PREDICTIONS = True"
   ]
  },
  {
   "cell_type": "markdown",
   "metadata": {},
   "source": [
    "# Train"
   ]
  },
  {
   "cell_type": "code",
   "execution_count": 3,
   "metadata": {},
   "outputs": [],
   "source": [
    "harness_factory = harness_util.TemplateHarnessFactory()"
   ]
  },
  {
   "cell_type": "code",
   "execution_count": 4,
   "metadata": {},
   "outputs": [],
   "source": [
    "config = {\n",
    "                \"corpusCol\": \"description\",\n",
    "                \"denseSize1\": 32,\n",
    "                \"denseSize2\": 16,\n",
    "                \"dropoutRate\": 0,\n",
    "                \"kernelRegPenalty\": 0.01,\n",
    "                \"method\": \"occurrence\",\n",
    "                \"numWords\": 10000,\n",
    "                \"sourceCol\": \"source\",\n",
    "                \"sourceIdCol\": \"sourceId\",\n",
    "                \"sourceIdVectorCol\": \"sourceIdVector\",\n",
    "                \"tokenVectorCol\": \"tokenVector\",\n",
    "                \"tokensCol\": \"tokens\"\n",
    "            }"
   ]
  },
  {
   "cell_type": "code",
   "execution_count": 5,
   "metadata": {},
   "outputs": [],
   "source": [
    "harness = harness_factory.build(config, db_loc=os.path.join('data', 'articles_publish.db'))"
   ]
  },
  {
   "cell_type": "code",
   "execution_count": 6,
   "metadata": {},
   "outputs": [
    {
     "name": "stdout",
     "output_type": "stream",
     "text": [
      "WARNING:tensorflow:From /anaconda3/lib/python3.7/site-packages/tensorflow/python/framework/op_def_library.py:263: colocate_with (from tensorflow.python.framework.ops) is deprecated and will be removed in a future version.\n",
      "Instructions for updating:\n",
      "Colocations handled automatically by placer.\n",
      "W&B Run: https://app.wandb.ai/sampottinger/who-wrote-this/runs/tq94co0v\n",
      "Call `%%wandb` in the cell containing your training loop to display live results.\n"
     ]
    },
    {
     "name": "stderr",
     "output_type": "stream",
     "text": [
      "wandb: Wandb version 0.8.1 is available!  To upgrade, please run:\n",
      "wandb:  $ pip install wandb --upgrade\n"
     ]
    },
    {
     "name": "stdout",
     "output_type": "stream",
     "text": [
      "WARNING:tensorflow:From /anaconda3/lib/python3.7/site-packages/tensorflow/python/ops/math_ops.py:3066: to_int32 (from tensorflow.python.ops.math_ops) is deprecated and will be removed in a future version.\n",
      "Instructions for updating:\n",
      "Use tf.cast instead.\n",
      "Train on 40281 samples, validate on 5002 samples\n",
      "Epoch 1/30\n",
      "40281/40281 [==============================] - 4s 108us/step - loss: 1.6353 - acc: 0.5588 - val_loss: 1.4538 - val_acc: 0.6345\n",
      "Epoch 2/30\n",
      "40281/40281 [==============================] - 3s 80us/step - loss: 1.4424 - acc: 0.6307 - val_loss: 1.3963 - val_acc: 0.6445\n",
      "Epoch 3/30\n",
      "40281/40281 [==============================] - 3s 81us/step - loss: 1.3964 - acc: 0.6493 - val_loss: 1.3604 - val_acc: 0.6661\n",
      "Epoch 4/30\n",
      "40281/40281 [==============================] - 3s 82us/step - loss: 1.3630 - acc: 0.6646 - val_loss: 1.3335 - val_acc: 0.6803\n",
      "Epoch 5/30\n",
      "40281/40281 [==============================] - 3s 83us/step - loss: 1.3368 - acc: 0.6731 - val_loss: 1.3075 - val_acc: 0.6799\n",
      "Epoch 6/30\n",
      "40281/40281 [==============================] - 3s 80us/step - loss: 1.3082 - acc: 0.6816 - val_loss: 1.2930 - val_acc: 0.6909\n",
      "Epoch 7/30\n",
      "40281/40281 [==============================] - 3s 81us/step - loss: 1.2861 - acc: 0.6866 - val_loss: 1.2756 - val_acc: 0.6981\n",
      "Epoch 8/30\n",
      "40281/40281 [==============================] - 3s 81us/step - loss: 1.2672 - acc: 0.6941 - val_loss: 1.2513 - val_acc: 0.6939\n",
      "Epoch 9/30\n",
      "40281/40281 [==============================] - 3s 81us/step - loss: 1.2454 - acc: 0.6967 - val_loss: 1.2291 - val_acc: 0.7013\n",
      "Epoch 10/30\n",
      "40281/40281 [==============================] - 3s 82us/step - loss: 1.2286 - acc: 0.7025 - val_loss: 1.2209 - val_acc: 0.7029\n",
      "Epoch 11/30\n",
      "40281/40281 [==============================] - 4s 97us/step - loss: 1.2098 - acc: 0.7088 - val_loss: 1.2019 - val_acc: 0.7167\n",
      "Epoch 12/30\n",
      "40281/40281 [==============================] - 4s 88us/step - loss: 1.1944 - acc: 0.7130 - val_loss: 1.1921 - val_acc: 0.7103\n",
      "Epoch 13/30\n",
      "40281/40281 [==============================] - 3s 84us/step - loss: 1.1816 - acc: 0.7154 - val_loss: 1.1990 - val_acc: 0.7141\n",
      "Epoch 14/30\n",
      "40281/40281 [==============================] - 3s 84us/step - loss: 1.1670 - acc: 0.7199 - val_loss: 1.1782 - val_acc: 0.7127\n",
      "Epoch 15/30\n",
      "40281/40281 [==============================] - 4s 89us/step - loss: 1.1575 - acc: 0.7212 - val_loss: 1.1690 - val_acc: 0.7163\n",
      "Epoch 16/30\n",
      "40281/40281 [==============================] - 3s 83us/step - loss: 1.1474 - acc: 0.7247 - val_loss: 1.1632 - val_acc: 0.7181\n",
      "Epoch 17/30\n",
      "40281/40281 [==============================] - 4s 104us/step - loss: 1.1383 - acc: 0.7274 - val_loss: 1.1465 - val_acc: 0.7225\n",
      "Epoch 18/30\n",
      "40281/40281 [==============================] - 4s 106us/step - loss: 1.1284 - acc: 0.7320 - val_loss: 1.1522 - val_acc: 0.7131\n",
      "Epoch 19/30\n",
      "40281/40281 [==============================] - 4s 108us/step - loss: 1.1198 - acc: 0.7314 - val_loss: 1.1375 - val_acc: 0.7253\n",
      "Epoch 20/30\n",
      "40281/40281 [==============================] - 5s 115us/step - loss: 1.1117 - acc: 0.7338 - val_loss: 1.1365 - val_acc: 0.7195\n",
      "Epoch 21/30\n",
      "40281/40281 [==============================] - 4s 110us/step - loss: 1.1035 - acc: 0.7355 - val_loss: 1.1300 - val_acc: 0.7245\n",
      "Epoch 22/30\n",
      "40281/40281 [==============================] - 4s 101us/step - loss: 1.0969 - acc: 0.7364 - val_loss: 1.1249 - val_acc: 0.7267\n",
      "Epoch 23/30\n",
      "40281/40281 [==============================] - 4s 97us/step - loss: 1.0911 - acc: 0.7411 - val_loss: 1.1363 - val_acc: 0.7255\n",
      "Epoch 24/30\n",
      "40281/40281 [==============================] - 4s 109us/step - loss: 1.0852 - acc: 0.7420 - val_loss: 1.1269 - val_acc: 0.7235\n",
      "Epoch 25/30\n",
      "40281/40281 [==============================] - 4s 93us/step - loss: 1.0798 - acc: 0.7408 - val_loss: 1.1172 - val_acc: 0.7225\n",
      "Epoch 26/30\n",
      "40281/40281 [==============================] - 4s 95us/step - loss: 1.0762 - acc: 0.7425 - val_loss: 1.1216 - val_acc: 0.7221\n",
      "Epoch 27/30\n",
      "40281/40281 [==============================] - 4s 95us/step - loss: 1.0747 - acc: 0.7448 - val_loss: 1.0989 - val_acc: 0.7291\n",
      "Epoch 28/30\n",
      "40281/40281 [==============================] - 4s 91us/step - loss: 1.0734 - acc: 0.7431 - val_loss: 1.1059 - val_acc: 0.7259\n",
      "Epoch 29/30\n",
      "40281/40281 [==============================] - 4s 93us/step - loss: 1.0690 - acc: 0.7447 - val_loss: 1.1100 - val_acc: 0.7293\n",
      "Epoch 30/30\n",
      "40281/40281 [==============================] - 4s 98us/step - loss: 1.0666 - acc: 0.7475 - val_loss: 1.1102 - val_acc: 0.7263\n"
     ]
    }
   ],
   "source": [
    "results = harness.run('who-wrote-this', 'accept-descr-occ-manual', config)"
   ]
  },
  {
   "cell_type": "markdown",
   "metadata": {},
   "source": [
    "# Generate predictions"
   ]
  },
  {
   "cell_type": "code",
   "execution_count": 10,
   "metadata": {},
   "outputs": [],
   "source": [
    "target_frame = results.get_data_frame()\n",
    "model = results.get_model()"
   ]
  },
  {
   "cell_type": "code",
   "execution_count": 11,
   "metadata": {},
   "outputs": [],
   "source": [
    "predictions = model.predict(numpy.array(target_frame['tokenVector'].tolist()))"
   ]
  },
  {
   "cell_type": "code",
   "execution_count": 12,
   "metadata": {},
   "outputs": [],
   "source": [
    "source_mapping = results.get_source_ids()._NumericalSourceIdSet__mapping"
   ]
  },
  {
   "cell_type": "code",
   "execution_count": 13,
   "metadata": {},
   "outputs": [],
   "source": [
    "source_mapping_invert = {}\n",
    "for source in source_mapping:\n",
    "    source_index = source_mapping[source]\n",
    "    target_frame[source + '_prediction'] = predictions[:,source_index]\n",
    "    source_mapping_invert[source_index] = source"
   ]
  },
  {
   "cell_type": "code",
   "execution_count": 14,
   "metadata": {},
   "outputs": [],
   "source": [
    "target_frame['prediction'] = list(map(lambda x: source_mapping_invert[x], numpy.argmax(predictions, axis=1)))"
   ]
  },
  {
   "cell_type": "code",
   "execution_count": 15,
   "metadata": {},
   "outputs": [],
   "source": [
    "output_frame = pandas.DataFrame()"
   ]
  },
  {
   "cell_type": "code",
   "execution_count": 16,
   "metadata": {},
   "outputs": [
    {
     "data": {
      "text/plain": [
       "Index(['source', 'title', 'description', 'set_assignment', 'sourceId',\n",
       "       'sourceIdVector', 'tokens', 'tokenVector', 'New York Times_prediction',\n",
       "       'Drudge Report_prediction', 'Fox_prediction', 'CNN_prediction',\n",
       "       'BBC_prediction', 'Daily Mail_prediction', 'NPR_prediction',\n",
       "       'Breitbart_prediction', 'Vox_prediction',\n",
       "       'Wall Street Journal_prediction', 'prediction'],\n",
       "      dtype='object')"
      ]
     },
     "execution_count": 16,
     "metadata": {},
     "output_type": "execute_result"
    }
   ],
   "source": [
    "target_frame.keys()"
   ]
  },
  {
   "cell_type": "code",
   "execution_count": 17,
   "metadata": {},
   "outputs": [],
   "source": [
    "output_frame['title'] = target_frame['title']\n",
    "output_frame['description'] = target_frame['description']\n",
    "output_frame['actualSource'] = target_frame['source']\n",
    "output_frame['setAssignment'] = target_frame['set_assignment']\n",
    "output_frame['cnnScore'] = target_frame['CNN_prediction']\n",
    "output_frame['foxScore'] = target_frame['Fox_prediction']\n",
    "output_frame['dailyMailScore'] = target_frame['Daily Mail_prediction']\n",
    "output_frame['drudgeReportScore'] = target_frame['Drudge Report_prediction']\n",
    "output_frame['newYorkTimesScore'] = target_frame['New York Times_prediction']\n",
    "output_frame['bbcScore'] = target_frame['BBC_prediction']\n",
    "output_frame['breitbartScore'] = target_frame['Breitbart_prediction']\n",
    "output_frame['wallStreetJournalScore'] = target_frame['Wall Street Journal_prediction']\n",
    "output_frame['voxScore'] = target_frame['Vox_prediction']\n",
    "output_frame['nprScore'] = target_frame['NPR_prediction']\n",
    "output_frame['prediction'] = target_frame['prediction']"
   ]
  },
  {
   "cell_type": "code",
   "execution_count": 18,
   "metadata": {},
   "outputs": [],
   "source": [
    "if PERSIST_PREDICTIONS:\n",
    "    conn = sqlite3.connect('./articles.db')\n",
    "    output_frame.to_sql('predictions', conn)\n",
    "    conn.commit()"
   ]
  },
  {
   "cell_type": "markdown",
   "metadata": {},
   "source": [
    "# Look at Word Importance"
   ]
  },
  {
   "cell_type": "code",
   "execution_count": 19,
   "metadata": {},
   "outputs": [],
   "source": [
    "class_names = list(map(lambda x: source_mapping_invert[x], sorted(source_mapping_invert.keys())))"
   ]
  },
  {
   "cell_type": "code",
   "execution_count": 20,
   "metadata": {},
   "outputs": [],
   "source": [
    "word_index = results.get_tokenizer().get_inner_tokenizer().word_index.items()\n",
    "feature_names_dict = dict(map(reversed, word_index))"
   ]
  },
  {
   "cell_type": "code",
   "execution_count": 21,
   "metadata": {},
   "outputs": [],
   "source": [
    "max_count =  max(feature_names_dict.keys())\n",
    "feature_names = [''] * max_count\n",
    "for i in range(0, max_count):\n",
    "    feature_names[i] = feature_names_dict.get(i, '')"
   ]
  },
  {
   "cell_type": "code",
   "execution_count": 22,
   "metadata": {},
   "outputs": [],
   "source": [
    "input_vals = numpy.array(target_frame['tokenVector'].tolist())"
   ]
  },
  {
   "cell_type": "code",
   "execution_count": 23,
   "metadata": {},
   "outputs": [],
   "source": [
    "explainer = lime.lime_text.LimeTextExplainer(\n",
    "    class_names=class_names\n",
    ")"
   ]
  },
  {
   "cell_type": "code",
   "execution_count": 24,
   "metadata": {},
   "outputs": [],
   "source": [
    "tokenizer = results.get_tokenizer().get_inner_tokenizer()\n",
    "vectorizer = input_vector_util.OccurenceInputVectorizer()\n",
    "data_loader = results.get_data_loader()\n",
    "\n",
    "def predict_from_input_text(input_text, agency_name):\n",
    "    input_text = map(lambda x: data_loader.clean_input_text(x, agency_name), input_text)\n",
    "    tokens = tokenizer.texts_to_sequences(input_text)\n",
    "    vectors = map(lambda x: vectorizer.prepare(10000, x), tokens)\n",
    "    predict_closure = lambda x: model.predict(numpy.array([x,]))[0]\n",
    "    probs = numpy.array(list(map(predict_closure, vectors)))\n",
    "    return probs\n",
    "\n",
    "def get_explanation(input_description, agency_name, agency_id):\n",
    "    exp = explainer.explain_instance(\n",
    "        input_description,\n",
    "        lambda x: predict_from_input_text(x, agency_name),\n",
    "        labels=[agency_id]\n",
    "    )\n",
    "    return exp.as_list(label=agency_id)\n",
    "\n",
    "def get_explanation_for_description(title, agency_name):\n",
    "    vector = target_frame[\n",
    "        target_frame['title'].apply(lambda x: x.strip()) == data_loader.clean_input_text(title, agency_name).strip()\n",
    "    ]['description'].values[0]\n",
    "    agency_id = source_mapping[agency_name]\n",
    "    return get_explanation(vector, agency_name, agency_id)"
   ]
  },
  {
   "cell_type": "code",
   "execution_count": 25,
   "metadata": {},
   "outputs": [
    {
     "name": "stdout",
     "output_type": "stream",
     "text": [
      "[('say', 0.13706295809830146), ('m', 0.13596317084180362), ('local', 0.12900234840320726), ('authorities', 0.1278754147337805), ('texas', 0.09199395935073976), ('times', 0.08200750480224388), ('being', 0.073142184067778), ('a', 0.059606062019950626), ('southern', 0.04438793729975369), ('killed', 0.037774898900539755)]\n"
     ]
    }
   ],
   "source": [
    "print(get_explanation_for_description('The Latest: 2 children killed after tree falls on car', 'Fox'))\n",
    "                                 "
   ]
  },
  {
   "cell_type": "code",
   "execution_count": 26,
   "metadata": {},
   "outputs": [
    {
     "data": {
      "text/plain": [
       "['New York Times',\n",
       " 'Drudge Report',\n",
       " 'Fox',\n",
       " 'CNN',\n",
       " 'BBC',\n",
       " 'Daily Mail',\n",
       " 'NPR',\n",
       " 'Breitbart',\n",
       " 'Vox',\n",
       " 'Wall Street Journal']"
      ]
     },
     "execution_count": 26,
     "metadata": {},
     "output_type": "execute_result"
    }
   ],
   "source": [
    "class_names"
   ]
  },
  {
   "cell_type": "code",
   "execution_count": 28,
   "metadata": {},
   "outputs": [],
   "source": [
    "articles_to_consider = (\n",
    "    ('jones to bring in expert in bid to fix england\\'s mental weakness under pressure', 'BBC'),\n",
    "    ('mark levin: \\'hate-america democrats passed a resolution telling you that america sucks\\'', 'Breitbart'),\n",
    "    ('the move shows a potential growing threat to the president and those in his orbit from probes by the manhattan us attorney\\'s office', 'CNN'),\n",
    "    ('children behind half of london knife crime as machete is sold for just £19', 'Daily Mail'),\n",
    "    ('pelosi warns dems: stay in center; trump may contest election results...', 'Drudge Report'),\n",
    "    (': vegas police: wounded robbery suspect has died', 'Fox'),\n",
    "    ('retired military officers urge caution in proposed diplomatic spending cuts', 'NPR'),\n",
    "    ('french raise a glass to a health warning about too much wine', 'New York Times'),\n",
    "    ('google employees walked out for the right to sue their bosses. now they’re taking the fight to congress.', 'Vox'),\n",
    "    ('how bad is the china slowdown? u.s. companies offer some answers', 'Wall Street Journal')\n",
    ")"
   ]
  },
  {
   "cell_type": "code",
   "execution_count": 30,
   "metadata": {},
   "outputs": [
    {
     "name": "stdout",
     "output_type": "stream",
     "text": [
      "Running jones to bring in expert in bid to fix england's mental weakness under pressure, BBC\n",
      "Running mark levin: 'hate-america democrats passed a resolution telling you that america sucks', Breitbart\n",
      "Running the move shows a potential growing threat to the president and those in his orbit from probes by the manhattan us attorney's office, CNN\n",
      "Running children behind half of london knife crime as machete is sold for just £19, Daily Mail\n",
      "Running pelosi warns dems: stay in center; trump may contest election results..., Drudge Report\n",
      "Running : vegas police: wounded robbery suspect has died, Fox\n",
      "Running retired military officers urge caution in proposed diplomatic spending cuts, NPR\n",
      "Running french raise a glass to a health warning about too much wine, New York Times\n",
      "Running google employees walked out for the right to sue their bosses. now they’re taking the fight to congress., Vox\n",
      "Running how bad is the china slowdown? u.s. companies offer some answers, Wall Street Journal\n"
     ]
    }
   ],
   "source": [
    "def get_explanation_for_pairing(pairing, verbose=True):\n",
    "    if verbose:\n",
    "        print('Running ' + ', '.join(pairing))\n",
    "    return get_explanation_for_description(pairing[0], pairing[1])\n",
    "\n",
    "results = list(map(lambda x: get_explanation_for_pairing(x), articles_to_consider))"
   ]
  },
  {
   "cell_type": "code",
   "execution_count": 31,
   "metadata": {},
   "outputs": [],
   "source": [
    "top_amounts = list(map(lambda x: list(map(lambda y: {'word': y[0], 'score': y[1]}, x)), results))"
   ]
  },
  {
   "cell_type": "code",
   "execution_count": 32,
   "metadata": {},
   "outputs": [],
   "source": [
    "top_amounts_flat = [score for scores_sub in top_amounts for score in scores_sub]"
   ]
  },
  {
   "cell_type": "code",
   "execution_count": 33,
   "metadata": {},
   "outputs": [],
   "source": [
    "top_amounts_frame = pandas.DataFrame(top_amounts_flat)"
   ]
  },
  {
   "cell_type": "code",
   "execution_count": 34,
   "metadata": {},
   "outputs": [],
   "source": [
    "top_amounts_frame.to_csv('./top_amounts.csv')"
   ]
  },
  {
   "cell_type": "code",
   "execution_count": 37,
   "metadata": {},
   "outputs": [],
   "source": [
    "articles_to_consider = (\n",
    "    ('the papers: climate protests and trump probe', 'BBC'),\n",
    "    ('warren: climate change, gun violence, student loan debt constitute for national emergency declaration', 'Breitbart'),\n",
    "    ('john avlon speaks the cold truth about climate change', 'CNN'),\n",
    "    ('dramatic moment police drag two climate change protesters along the street', 'Daily Mail'),\n",
    "    ('climate-first...', 'Drudge Report'),\n",
    "    ('trump pokes fun at klobuchar\\'s climate-change stance as she announces candidacy in snow', 'Fox'),\n",
    "    ('the role climate change plays in weather extremes', 'NPR'),\n",
    "    ('nonfiction: striking a balance between fear and hope on climate change', 'New York Times'),\n",
    "    ('amazon says it’s a leader on fighting climate change. 5,000 employees disagree.', 'Vox'),\n",
    "    ('glencore, the king of coal, bows to investor pressure over climate', 'Wall Street Journal')\n",
    ")"
   ]
  },
  {
   "cell_type": "code",
   "execution_count": 41,
   "metadata": {},
   "outputs": [
    {
     "name": "stdout",
     "output_type": "stream",
     "text": [
      "Running the papers: climate protests and trump probe, BBC\n",
      "Running warren: climate change, gun violence, student loan debt constitute for national emergency declaration, Breitbart\n",
      "Running john avlon speaks the cold truth about climate change, CNN\n",
      "Running dramatic moment police drag two climate change protesters along the street, Daily Mail\n",
      "Running climate-first..., Drudge Report\n",
      "Running trump pokes fun at klobuchar's climate-change stance as she announces candidacy in snow, Fox\n",
      "Running the role climate change plays in weather extremes, NPR\n",
      "Running nonfiction: striking a balance between fear and hope on climate change, New York Times\n",
      "Running amazon says it’s a leader on fighting climate change. 5,000 employees disagree., Vox\n",
      "Running glencore, the king of coal, bows to investor pressure over climate, Wall Street Journal\n"
     ]
    }
   ],
   "source": [
    "results = list(map(lambda x: get_explanation_for_pairing(x), articles_to_consider))"
   ]
  },
  {
   "cell_type": "code",
   "execution_count": 42,
   "metadata": {},
   "outputs": [],
   "source": [
    "top_amounts = list(map(lambda x: list(map(lambda y: {'word': y[0], 'score': y[1]}, x)), results))"
   ]
  },
  {
   "cell_type": "code",
   "execution_count": 43,
   "metadata": {},
   "outputs": [],
   "source": [
    "top_amounts_flat = [score for scores_sub in top_amounts for score in scores_sub]"
   ]
  },
  {
   "cell_type": "code",
   "execution_count": 44,
   "metadata": {},
   "outputs": [],
   "source": [
    "top_amounts_frame = pandas.DataFrame(top_amounts_flat)"
   ]
  },
  {
   "cell_type": "code",
   "execution_count": 45,
   "metadata": {},
   "outputs": [],
   "source": [
    "top_amounts_frame.to_csv('./top_amounts_climate.csv')"
   ]
  },
  {
   "cell_type": "code",
   "execution_count": 48,
   "metadata": {},
   "outputs": [
    {
     "data": {
      "text/plain": [
       "[[('the', 0.3265776211505303),\n",
       "  ('us', 0.24944025371607373),\n",
       "  ('and', 0.19270066579393708),\n",
       "  ('react', 0.10901990652313094),\n",
       "  ('say', 0.09117311466037219),\n",
       "  ('papers', 0.07795451441078037),\n",
       "  ('to', 0.07557353934402937),\n",
       "  ('on', 0.04416164457409756),\n",
       "  ('activists', -0.03988923000636548),\n",
       "  ('target', -0.036111089308746444)],\n",
       " [('d', 0.03315604140077073),\n",
       "  ('host', 0.026210406337261752),\n",
       "  ('if', 0.02216439110771031),\n",
       "  ('tuesday', 0.018306737917309916),\n",
       "  ('gun', 0.018233226780838344),\n",
       "  ('which', 0.01693026186902366),\n",
       "  ('with', -0.01647727892667663),\n",
       "  ('we', 0.014800896037960792),\n",
       "  ('twitter', -0.011222291530080829),\n",
       "  ('president', -0.007855393371712921)],\n",
       " [('s', 0.571472792866239),\n",
       "  ('donald', 0.2578055049386025),\n",
       "  ('john', 0.09360219347686867),\n",
       "  ('as', -0.0563349288738391),\n",
       "  ('to', -0.045675853260542125),\n",
       "  ('president', 0.043325460597711654),\n",
       "  ('continues', 0.03800389366173404),\n",
       "  ('explains', 0.03064153578253951),\n",
       "  ('between', 0.029809118188025136),\n",
       "  ('two', 0.029430304399559577)],\n",
       " [('today', 0.22741024942152596),\n",
       "  ('the', 0.11713696238804708),\n",
       "  ('towards', 0.10960543768089961),\n",
       "  ('in', 0.10544803024027655),\n",
       "  ('clip', 0.10406524526073337),\n",
       "  ('oxford', 0.09949211106892414),\n",
       "  ('seen', 0.09488237876194562),\n",
       "  ('at', 0.08548335446978667),\n",
       "  ('an', 0.07908847219966537),\n",
       "  ('taken', 0.07780668621266326)],\n",
       " [('link', 0.009072352318198454),\n",
       "  ('headline', 0.008742150023702886),\n",
       "  ('story', 0.007471964532031604),\n",
       "  ('top', 0.006869822272622657),\n",
       "  ('bezos', 0.0046663562186277305),\n",
       "  ('washington', 0.003805247132215647),\n",
       "  ('for', 0.0036981987017398166),\n",
       "  ('ex', 0.0032654740902802464),\n",
       "  ('announces', 0.002922974467302895),\n",
       "  ('climate', -0.001486742876282681)],\n",
       " [('sunday', 0.12855716788465327),\n",
       "  ('her', 0.11442793128573586),\n",
       "  ('sen', 0.11069109907357186),\n",
       "  ('a', 0.10008155972088699),\n",
       "  ('president', 0.0904644779732149),\n",
       "  ('presidential', 0.052536231621246064),\n",
       "  ('d', 0.04259199800140418),\n",
       "  ('campaign', -0.03592421444369047),\n",
       "  ('minneapolis', 0.029628654385502568),\n",
       "  ('park', -0.02535039211151913)],\n",
       " [('s', 0.5224843210501358),\n",
       "  ('speaks', 0.17195323494881953),\n",
       "  ('michel', 0.12823152950467173),\n",
       "  ('about', 0.10472321845116221),\n",
       "  ('martin', 0.10015744832441378),\n",
       "  ('is', 0.06532439352412386),\n",
       "  ('a', 0.0571399562490535),\n",
       "  ('with', 0.04849261761741777),\n",
       "  ('cold', 0.036950912447649045),\n",
       "  ('more', 0.036907237550281524)],\n",
       " [('the', 0.09631455655743097),\n",
       "  ('but', 0.07883484435061722),\n",
       "  ('a', 0.059022616455785236),\n",
       "  ('our', 0.055118251860450905),\n",
       "  ('he', 0.053347712479559786),\n",
       "  ('that', 0.03557089070348273),\n",
       "  ('bill', -0.03258525176103594),\n",
       "  ('disaster', 0.02821074722521236),\n",
       "  ('yet', 0.022128400037412434),\n",
       "  ('may', -0.015326746125145708)],\n",
       " [('current', 0.042900936659996926),\n",
       "  ('its', 0.0397534335285542),\n",
       "  ('most', 0.03969166624497079),\n",
       "  ('as', 0.03956319161412689),\n",
       "  ('demand', 0.03923974334823366),\n",
       "  ('filed', 0.03871716771740519),\n",
       "  ('about', 0.037202367922672966),\n",
       "  ('role', 0.03634746264372649),\n",
       "  ('likely', 0.02093903108476337),\n",
       "  ('our', 0.017576590426636254)],\n",
       " [('its', 0.05240261968846791),\n",
       "  ('about', 0.04593371651845242),\n",
       "  ('company', 0.04419041047197821),\n",
       "  ('with', 0.041933477434170696),\n",
       "  ('plans', 0.034223369681382086),\n",
       "  ('said', 0.03289759154497727),\n",
       "  ('in', 0.030177135773098916),\n",
       "  ('shift', 0.029063373978672046),\n",
       "  ('from', 0.027613198443146164),\n",
       "  ('to', 0.02743578650600383)]]"
      ]
     },
     "execution_count": 48,
     "metadata": {},
     "output_type": "execute_result"
    }
   ],
   "source": [
    "results"
   ]
  },
  {
   "cell_type": "code",
   "execution_count": null,
   "metadata": {},
   "outputs": [],
   "source": []
  }
 ],
 "metadata": {
  "kernelspec": {
   "display_name": "Python 3",
   "language": "python",
   "name": "python3"
  },
  "language_info": {
   "codemirror_mode": {
    "name": "ipython",
    "version": 3
   },
   "file_extension": ".py",
   "mimetype": "text/x-python",
   "name": "python",
   "nbconvert_exporter": "python",
   "pygments_lexer": "ipython3",
   "version": "3.7.1"
  }
 },
 "nbformat": 4,
 "nbformat_minor": 2
}
