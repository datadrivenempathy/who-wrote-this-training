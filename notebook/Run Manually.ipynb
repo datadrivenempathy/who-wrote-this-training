{
 "cells": [
  {
   "cell_type": "code",
   "execution_count": 1,
   "metadata": {},
   "outputs": [
    {
     "name": "stderr",
     "output_type": "stream",
     "text": [
      "Using TensorFlow backend.\n"
     ]
    }
   ],
   "source": [
    "import os\n",
    "import sqlite3\n",
    "\n",
    "import lime.lime_text\n",
    "import numpy\n",
    "import pandas\n",
    "\n",
    "import input_vector_util\n",
    "import harness_util"
   ]
  },
  {
   "cell_type": "code",
   "execution_count": 2,
   "metadata": {},
   "outputs": [],
   "source": [
    "PERSIST_PREDICTIONS = False"
   ]
  },
  {
   "cell_type": "markdown",
   "metadata": {},
   "source": [
    "# Train"
   ]
  },
  {
   "cell_type": "code",
   "execution_count": 3,
   "metadata": {},
   "outputs": [],
   "source": [
    "harness_factory = harness_util.TemplateHarnessFactory()"
   ]
  },
  {
   "cell_type": "code",
   "execution_count": 4,
   "metadata": {},
   "outputs": [],
   "source": [
    "config = {\n",
    "                \"corpusCol\": \"description\",\n",
    "                \"denseSize1\": 32,\n",
    "                \"denseSize2\": 16,\n",
    "                \"dropoutRate\": 0,\n",
    "                \"kernelRegPenalty\": 0.01,\n",
    "                \"method\": \"occurrence\",\n",
    "                \"numWords\": 10000,\n",
    "                \"sourceCol\": \"source\",\n",
    "                \"sourceIdCol\": \"sourceId\",\n",
    "                \"sourceIdVectorCol\": \"sourceIdVector\",\n",
    "                \"tokenVectorCol\": \"tokenVector\",\n",
    "                \"tokensCol\": \"tokens\"\n",
    "            }"
   ]
  },
  {
   "cell_type": "code",
   "execution_count": 5,
   "metadata": {},
   "outputs": [],
   "source": [
    "harness = harness_factory.build(config, db_loc=os.path.join('data', 'articles_publish.db'))"
   ]
  },
  {
   "cell_type": "code",
   "execution_count": 6,
   "metadata": {},
   "outputs": [
    {
     "name": "stdout",
     "output_type": "stream",
     "text": [
      "WARNING:tensorflow:From /anaconda3/lib/python3.7/site-packages/tensorflow/python/framework/op_def_library.py:263: colocate_with (from tensorflow.python.framework.ops) is deprecated and will be removed in a future version.\n",
      "Instructions for updating:\n",
      "Colocations handled automatically by placer.\n",
      "W&B Run: https://app.wandb.ai/sampottinger/who-wrote-this/runs/pk2aypxh\n",
      "Call `%%wandb` in the cell containing your training loop to display live results.\n"
     ]
    },
    {
     "name": "stderr",
     "output_type": "stream",
     "text": [
      "wandb: Wandb version 0.8.1 is available!  To upgrade, please run:\n",
      "wandb:  $ pip install wandb --upgrade\n"
     ]
    },
    {
     "name": "stdout",
     "output_type": "stream",
     "text": [
      "WARNING:tensorflow:From /anaconda3/lib/python3.7/site-packages/tensorflow/python/ops/math_ops.py:3066: to_int32 (from tensorflow.python.ops.math_ops) is deprecated and will be removed in a future version.\n",
      "Instructions for updating:\n",
      "Use tf.cast instead.\n",
      "Train on 32653 samples, validate on 4008 samples\n",
      "Epoch 1/30\n",
      "32653/32653 [==============================] - 5s 157us/step - loss: 1.6737 - acc: 0.5404 - val_loss: 1.4398 - val_acc: 0.6312\n",
      "Epoch 2/30\n",
      "32653/32653 [==============================] - 4s 113us/step - loss: 1.4635 - acc: 0.6203 - val_loss: 1.3814 - val_acc: 0.6562\n",
      "Epoch 3/30\n",
      "32653/32653 [==============================] - 4s 127us/step - loss: 1.4173 - acc: 0.6430 - val_loss: 1.3527 - val_acc: 0.6799\n",
      "Epoch 4/30\n",
      "32653/32653 [==============================] - 6s 169us/step - loss: 1.3846 - acc: 0.6537 - val_loss: 1.3169 - val_acc: 0.6886\n",
      "Epoch 5/30\n",
      "32653/32653 [==============================] - 3s 103us/step - loss: 1.3628 - acc: 0.6603 - val_loss: 1.3237 - val_acc: 0.6856\n",
      "Epoch 6/30\n",
      "32653/32653 [==============================] - 4s 115us/step - loss: 1.3388 - acc: 0.6689 - val_loss: 1.2925 - val_acc: 0.6969\n",
      "Epoch 7/30\n",
      "32653/32653 [==============================] - 4s 110us/step - loss: 1.3182 - acc: 0.6757 - val_loss: 1.2796 - val_acc: 0.7061\n",
      "Epoch 8/30\n",
      "32653/32653 [==============================] - 3s 101us/step - loss: 1.2997 - acc: 0.6833 - val_loss: 1.2735 - val_acc: 0.6896\n",
      "Epoch 9/30\n",
      "32653/32653 [==============================] - 3s 106us/step - loss: 1.2832 - acc: 0.6876 - val_loss: 1.2383 - val_acc: 0.7081\n",
      "Epoch 10/30\n",
      "32653/32653 [==============================] - 4s 130us/step - loss: 1.2645 - acc: 0.6957 - val_loss: 1.2251 - val_acc: 0.7148\n",
      "Epoch 11/30\n",
      "32653/32653 [==============================] - 5s 147us/step - loss: 1.2409 - acc: 0.7030 - val_loss: 1.2159 - val_acc: 0.7173\n",
      "Epoch 12/30\n",
      "32653/32653 [==============================] - 4s 122us/step - loss: 1.2231 - acc: 0.7063 - val_loss: 1.2170 - val_acc: 0.7098\n",
      "Epoch 13/30\n",
      "32653/32653 [==============================] - 4s 115us/step - loss: 1.2052 - acc: 0.7127 - val_loss: 1.2050 - val_acc: 0.7193\n",
      "Epoch 14/30\n",
      "32653/32653 [==============================] - 3s 104us/step - loss: 1.1871 - acc: 0.7181 - val_loss: 1.1886 - val_acc: 0.7283\n",
      "Epoch 15/30\n",
      "32653/32653 [==============================] - 4s 111us/step - loss: 1.1760 - acc: 0.7225 - val_loss: 1.1728 - val_acc: 0.7338\n",
      "Epoch 16/30\n",
      "32653/32653 [==============================] - 7s 200us/step - loss: 1.1627 - acc: 0.7252 - val_loss: 1.1516 - val_acc: 0.7320\n",
      "Epoch 17/30\n",
      "32653/32653 [==============================] - 8s 251us/step - loss: 1.1495 - acc: 0.7311 - val_loss: 1.1498 - val_acc: 0.7355\n",
      "Epoch 18/30\n",
      "32653/32653 [==============================] - 5s 162us/step - loss: 1.1427 - acc: 0.7320 - val_loss: 1.1537 - val_acc: 0.7288\n",
      "Epoch 19/30\n",
      "32653/32653 [==============================] - 4s 124us/step - loss: 1.1287 - acc: 0.7358 - val_loss: 1.1492 - val_acc: 0.7338\n",
      "Epoch 20/30\n",
      "32653/32653 [==============================] - 4s 123us/step - loss: 1.1226 - acc: 0.7348 - val_loss: 1.1398 - val_acc: 0.7288\n",
      "Epoch 21/30\n",
      "32653/32653 [==============================] - 4s 109us/step - loss: 1.1136 - acc: 0.7393 - val_loss: 1.1339 - val_acc: 0.7315\n",
      "Epoch 22/30\n",
      "32653/32653 [==============================] - 4s 125us/step - loss: 1.1053 - acc: 0.7423 - val_loss: 1.1313 - val_acc: 0.7275\n",
      "Epoch 23/30\n",
      "32653/32653 [==============================] - 4s 135us/step - loss: 1.0990 - acc: 0.7424 - val_loss: 1.1271 - val_acc: 0.7280\n",
      "Epoch 24/30\n",
      "32653/32653 [==============================] - 4s 125us/step - loss: 1.0927 - acc: 0.7443 - val_loss: 1.1465 - val_acc: 0.7318\n",
      "Epoch 25/30\n",
      "32653/32653 [==============================] - 4s 124us/step - loss: 1.0859 - acc: 0.7478 - val_loss: 1.1296 - val_acc: 0.7358\n",
      "Epoch 26/30\n",
      "32653/32653 [==============================] - 4s 114us/step - loss: 1.0808 - acc: 0.7495 - val_loss: 1.1287 - val_acc: 0.7355\n",
      "Epoch 27/30\n",
      "32653/32653 [==============================] - 4s 112us/step - loss: 1.0759 - acc: 0.7510 - val_loss: 1.1116 - val_acc: 0.7358\n",
      "Epoch 28/30\n",
      "32653/32653 [==============================] - 4s 113us/step - loss: 1.0716 - acc: 0.7544 - val_loss: 1.1290 - val_acc: 0.7320\n",
      "Epoch 29/30\n",
      "32653/32653 [==============================] - 3s 103us/step - loss: 1.0648 - acc: 0.7547 - val_loss: 1.1033 - val_acc: 0.7455\n",
      "Epoch 30/30\n",
      "32653/32653 [==============================] - 3s 103us/step - loss: 1.0601 - acc: 0.7541 - val_loss: 1.1087 - val_acc: 0.7405\n"
     ]
    }
   ],
   "source": [
    "results = harness.run('who-wrote-this', 'accept-descr-occ-manual', config)"
   ]
  },
  {
   "cell_type": "markdown",
   "metadata": {},
   "source": [
    "# Generate predictions"
   ]
  },
  {
   "cell_type": "code",
   "execution_count": 7,
   "metadata": {},
   "outputs": [],
   "source": [
    "target_frame = results.get_data_frame()\n",
    "model = results.get_model()"
   ]
  },
  {
   "cell_type": "code",
   "execution_count": 8,
   "metadata": {},
   "outputs": [],
   "source": [
    "predictions = model.predict(numpy.array(target_frame['tokenVector'].tolist()))"
   ]
  },
  {
   "cell_type": "code",
   "execution_count": 9,
   "metadata": {},
   "outputs": [],
   "source": [
    "source_mapping = results.get_source_ids()._NumericalSourceIdSet__mapping"
   ]
  },
  {
   "cell_type": "code",
   "execution_count": 10,
   "metadata": {},
   "outputs": [],
   "source": [
    "source_mapping_invert = {}\n",
    "for source in source_mapping:\n",
    "    source_index = source_mapping[source]\n",
    "    target_frame[source + '_prediction'] = predictions[:,source_index]\n",
    "    source_mapping_invert[source_index] = source"
   ]
  },
  {
   "cell_type": "code",
   "execution_count": 11,
   "metadata": {},
   "outputs": [],
   "source": [
    "target_frame['prediction'] = list(map(lambda x: source_mapping_invert[x], numpy.argmax(predictions, axis=1)))"
   ]
  },
  {
   "cell_type": "code",
   "execution_count": 12,
   "metadata": {},
   "outputs": [],
   "source": [
    "output_frame = pandas.DataFrame()"
   ]
  },
  {
   "cell_type": "code",
   "execution_count": 13,
   "metadata": {},
   "outputs": [
    {
     "data": {
      "text/plain": [
       "Index(['source', 'title', 'description', 'set_assignment', 'sourceId',\n",
       "       'sourceIdVector', 'tokens', 'tokenVector', 'Breitbart_prediction',\n",
       "       'CNN_prediction', 'Drudge Report_prediction', 'BBC_prediction',\n",
       "       'Daily Mail_prediction', 'NPR_prediction', 'New York Times_prediction',\n",
       "       'Vox_prediction', 'Fox_prediction', 'Wall Street Journal_prediction',\n",
       "       'prediction'],\n",
       "      dtype='object')"
      ]
     },
     "execution_count": 13,
     "metadata": {},
     "output_type": "execute_result"
    }
   ],
   "source": [
    "target_frame.keys()"
   ]
  },
  {
   "cell_type": "code",
   "execution_count": 14,
   "metadata": {},
   "outputs": [],
   "source": [
    "output_frame['title'] = target_frame['title']\n",
    "output_frame['description'] = target_frame['description']\n",
    "output_frame['actualSource'] = target_frame['source']\n",
    "output_frame['setAssignment'] = target_frame['set_assignment']\n",
    "output_frame['cnnScore'] = target_frame['CNN_prediction']\n",
    "output_frame['foxScore'] = target_frame['Fox_prediction']\n",
    "output_frame['dailyMailScore'] = target_frame['Daily Mail_prediction']\n",
    "output_frame['drudgeReportScore'] = target_frame['Drudge Report_prediction']\n",
    "output_frame['newYorkTimesScore'] = target_frame['New York Times_prediction']\n",
    "output_frame['bbcScore'] = target_frame['BBC_prediction']\n",
    "output_frame['breitbartScore'] = target_frame['Breitbart_prediction']\n",
    "output_frame['wallStreetJournalScore'] = target_frame['Wall Street Journal_prediction']\n",
    "output_frame['voxScore'] = target_frame['Vox_prediction']\n",
    "output_frame['nprScore'] = target_frame['NPR_prediction']\n",
    "output_frame['prediction'] = target_frame['prediction']"
   ]
  },
  {
   "cell_type": "code",
   "execution_count": 15,
   "metadata": {},
   "outputs": [],
   "source": [
    "if PERSIST_PREDICTIONS:\n",
    "    conn = sqlite3.connect('./articles.db')\n",
    "    output_frame.to_sql('predictions', conn)\n",
    "    conn.commit()"
   ]
  },
  {
   "cell_type": "markdown",
   "metadata": {},
   "source": [
    "# Look at Word Importance"
   ]
  },
  {
   "cell_type": "code",
   "execution_count": 16,
   "metadata": {},
   "outputs": [],
   "source": [
    "class_names = list(map(lambda x: source_mapping_invert[x], sorted(source_mapping_invert.keys())))"
   ]
  },
  {
   "cell_type": "code",
   "execution_count": 17,
   "metadata": {},
   "outputs": [],
   "source": [
    "word_index = results.get_tokenizer().get_inner_tokenizer().word_index.items()\n",
    "feature_names_dict = dict(map(reversed, word_index))"
   ]
  },
  {
   "cell_type": "code",
   "execution_count": 18,
   "metadata": {},
   "outputs": [],
   "source": [
    "max_count =  max(feature_names_dict.keys())\n",
    "feature_names = [''] * max_count\n",
    "for i in range(0, max_count):\n",
    "    feature_names[i] = feature_names_dict.get(i, '')"
   ]
  },
  {
   "cell_type": "code",
   "execution_count": 19,
   "metadata": {},
   "outputs": [],
   "source": [
    "input_vals = numpy.array(target_frame['tokenVector'].tolist())"
   ]
  },
  {
   "cell_type": "code",
   "execution_count": 20,
   "metadata": {},
   "outputs": [],
   "source": [
    "explainer = lime.lime_text.LimeTextExplainer(\n",
    "    class_names=class_names\n",
    ")"
   ]
  },
  {
   "cell_type": "code",
   "execution_count": 21,
   "metadata": {},
   "outputs": [],
   "source": [
    "tokenizer = results.get_tokenizer().get_inner_tokenizer()\n",
    "vectorizer = input_vector_util.OccurenceInputVectorizer()\n",
    "data_loader = results.get_data_loader()\n",
    "\n",
    "def predict_from_input_text(input_text, agency_name):\n",
    "    input_text = map(lambda x: data_loader.clean_input_text(x, agency_name), input_text)\n",
    "    tokens = tokenizer.texts_to_sequences(input_text)\n",
    "    vectors = map(lambda x: vectorizer.prepare(10000, x), tokens)\n",
    "    predict_closure = lambda x: model.predict(numpy.array([x,]))[0]\n",
    "    probs = numpy.array(list(map(predict_closure, vectors)))\n",
    "    return probs\n",
    "\n",
    "def get_explanation(input_description, agency_name, agency_id):\n",
    "    exp = explainer.explain_instance(\n",
    "        input_description,\n",
    "        lambda x: predict_from_input_text(x, agency_name),\n",
    "        labels=[agency_id]\n",
    "    )\n",
    "    return exp.as_list(label=agency_id)\n",
    "\n",
    "def get_explanation_for_description(title, agency_name):\n",
    "    vector = target_frame[\n",
    "        target_frame['title'].apply(lambda x: x.strip()) == data_loader.clean_input_text(title, agency_name).strip()\n",
    "    ]['description'].values[0]\n",
    "    agency_id = source_mapping[agency_name]\n",
    "    return get_explanation(vector, agency_name, agency_id)"
   ]
  },
  {
   "cell_type": "code",
   "execution_count": 22,
   "metadata": {},
   "outputs": [
    {
     "name": "stdout",
     "output_type": "stream",
     "text": [
      "[('authorities', 0.16115823139228405), ('say', 0.14557758698128415), ('texas', 0.09899131851340202), ('m', 0.0916018362601917), ('local', 0.0803815942926757), ('car', 0.07240246057977347), ('killed', 0.06725801839135034), ('two', 0.056468456092729796), ('all', 0.05437457508050377), ('states', -0.03510780725131933)]\n"
     ]
    }
   ],
   "source": [
    "print(get_explanation_for_description('The Latest: 2 children killed after tree falls on car', 'Fox'))\n",
    "                                 "
   ]
  },
  {
   "cell_type": "code",
   "execution_count": 23,
   "metadata": {},
   "outputs": [
    {
     "data": {
      "text/plain": [
       "['Breitbart',\n",
       " 'CNN',\n",
       " 'Drudge Report',\n",
       " 'BBC',\n",
       " 'Daily Mail',\n",
       " 'NPR',\n",
       " 'New York Times',\n",
       " 'Vox',\n",
       " 'Fox',\n",
       " 'Wall Street Journal']"
      ]
     },
     "execution_count": 23,
     "metadata": {},
     "output_type": "execute_result"
    }
   ],
   "source": [
    "class_names"
   ]
  },
  {
   "cell_type": "code",
   "execution_count": 24,
   "metadata": {},
   "outputs": [],
   "source": [
    "articles_to_consider = (\n",
    "    ('chelsea 0-2 man utd: ander herrera and paul pogba give visitors victory', 'BBC'),\n",
    "    ('mark levin: \\'hate-america democrats passed a resolution telling you that america sucks\\'', 'Breitbart'),\n",
    "    ('white house attacks cohen before testimony about trump', 'CNN'),\n",
    "    ('petition to unseat fiona onasanya opened to peterborough voters after disgraced mp refuses to quit', 'Daily Mail'),\n",
    "    ('congress closes in on border deal... developing...', 'Drudge Report'),\n",
    "    (': police list actions of dad held in son\\'s death', 'Fox'),\n",
    "    ('the united states\\' strategy for venezuela', 'NPR'),\n",
    "    ('jared kushner and ivanka trump use private accounts for official business, their lawyer says', 'New York Times'),\n",
    "    ('andrew yang, the 2020 long-shot candidate running on a universal basic income, explained', 'Vox'),\n",
    "    ('how bad is the china slowdown? u.s. companies offer some answers', 'Wall Street Journal')\n",
    ")"
   ]
  },
  {
   "cell_type": "code",
   "execution_count": 25,
   "metadata": {},
   "outputs": [
    {
     "name": "stdout",
     "output_type": "stream",
     "text": [
      "Running chelsea 0-2 man utd: ander herrera and paul pogba give visitors victory, BBC\n",
      "Running mark levin: 'hate-america democrats passed a resolution telling you that america sucks', Breitbart\n",
      "Running white house attacks cohen before testimony about trump, CNN\n",
      "Running petition to unseat fiona onasanya opened to peterborough voters after disgraced mp refuses to quit, Daily Mail\n",
      "Running congress closes in on border deal... developing..., Drudge Report\n",
      "Running : police list actions of dad held in son's death, Fox\n",
      "Running the united states' strategy for venezuela, NPR\n",
      "Running jared kushner and ivanka trump use private accounts for official business, their lawyer says, New York Times\n",
      "Running andrew yang, the 2020 long-shot candidate running on a universal basic income, explained, Vox\n",
      "Running how bad is the china slowdown? u.s. companies offer some answers, Wall Street Journal\n"
     ]
    }
   ],
   "source": [
    "def get_explanation_for_pairing(pairing, verbose=True):\n",
    "    if verbose:\n",
    "        print('Running ' + ', '.join(pairing))\n",
    "    return get_explanation_for_description(pairing[0], pairing[1])\n",
    "\n",
    "results = list(map(lambda x: get_explanation_for_pairing(x), articles_to_consider))"
   ]
  },
  {
   "cell_type": "code",
   "execution_count": 26,
   "metadata": {},
   "outputs": [],
   "source": [
    "top_amounts = list(map(lambda x: list(map(lambda y: {'word': y[0], 'score': y[1]}, x)), results))"
   ]
  },
  {
   "cell_type": "code",
   "execution_count": 27,
   "metadata": {},
   "outputs": [],
   "source": [
    "top_amounts_flat = [score for scores_sub in top_amounts for score in scores_sub]"
   ]
  },
  {
   "cell_type": "code",
   "execution_count": 28,
   "metadata": {},
   "outputs": [],
   "source": [
    "top_amounts_frame = pandas.DataFrame(top_amounts_flat)"
   ]
  },
  {
   "cell_type": "code",
   "execution_count": 29,
   "metadata": {},
   "outputs": [],
   "source": [
    "top_amounts_frame.to_csv('./top_amounts.csv')"
   ]
  },
  {
   "cell_type": "code",
   "execution_count": 31,
   "metadata": {},
   "outputs": [
    {
     "data": {
      "text/plain": [
       "[[('the', 0.21360788792455387),\n",
       "  ('his', 0.15145320645199525),\n",
       "  ('says', 0.13193405162724636),\n",
       "  ('as', 0.0762133736227907),\n",
       "  ('cup', 0.07425146768943328),\n",
       "  ('to', 0.07258654650825991),\n",
       "  ('manchester', 0.06393324035637822),\n",
       "  ('finals', 0.05591211360443453),\n",
       "  ('played', 0.0313020143761076),\n",
       "  ('reach', 0.0218894731614337)],\n",
       " [('democrat', 0.008342656823702502),\n",
       "  ('d', 0.008014944954810836),\n",
       "  ('conservative', 0.007767560048520718),\n",
       "  ('i', 0.007455549708196098),\n",
       "  ('god', 0.007442760283685246),\n",
       "  ('ocasio', 0.007325452335076072),\n",
       "  ('thursday', 0.0072724503411199645),\n",
       "  ('united', 0.007059380641807633),\n",
       "  ('including', 0.006722234658894481),\n",
       "  ('however', 0.006107696348716699)],\n",
       " [('s', 0.4024806557674963),\n",
       "  ('donald', 0.10081866838389537),\n",
       "  ('reports', 0.08602222648523632),\n",
       "  ('is', 0.061846991543617925),\n",
       "  ('watch', 0.06071939860475143),\n",
       "  ('president', 0.0548132121590327),\n",
       "  ('trump', 0.04960206740671895),\n",
       "  ('hearing', 0.04766865629498838),\n",
       "  ('to', -0.03925459007861488),\n",
       "  ('in', -0.03749729995097772)],\n",
       " [('cent', 0.165113847117234),\n",
       "  ('labour', 0.11806942529495036),\n",
       "  ('she', 0.10913158616125855),\n",
       "  ('per', 0.10816440128791804),\n",
       "  ('fiona', 0.09929134701452741),\n",
       "  ('her', 0.09604618650951771),\n",
       "  ('the', 0.0874942511173383),\n",
       "  ('of', 0.08416252200188816),\n",
       "  ('mp', 0.07606879974858788),\n",
       "  ('has', 0.07571608579549839)],\n",
       " [('usa', 0.004966878118023405),\n",
       "  ('link', 0.004653356532835084),\n",
       "  ('ca', 0.004202866805377162),\n",
       "  ('dem', 0.003657644502245066),\n",
       "  ('border', 0.003330180837218891),\n",
       "  ('from', -0.0032683129736241533),\n",
       "  ('headline', 0.0032353158550501152),\n",
       "  ('illegals', 0.00293051193377315),\n",
       "  ('story', 0.002895169959181246),\n",
       "  ('in', -0.0014519649871846732)],\n",
       " [('boy', 0.21966247771168898),\n",
       "  ('say', 0.11932039683899434),\n",
       "  ('m', 0.11641245103996735),\n",
       "  ('california', 0.11142057454893486),\n",
       "  ('man', 0.10009881895282052),\n",
       "  ('a', 0.09400080898993154),\n",
       "  ('local', 0.09134648452355888),\n",
       "  ('s', 0.08049369608906475),\n",
       "  ('charged', 0.07878978048584065),\n",
       "  ('saw', -0.05062835606439295)],\n",
       " [('s', 0.5312449467225249),\n",
       "  ('speaks', 0.13685856697576232),\n",
       "  ('u', 0.1259446976422104),\n",
       "  ('about', 0.08380076315452131),\n",
       "  ('kelly', 0.07022375815808875),\n",
       "  ('with', 0.06797039048606293),\n",
       "  ('the', 0.059902524379047375),\n",
       "  ('louise', 0.059753977233260785),\n",
       "  ('mary', 0.052856568798465946),\n",
       "  ('a', 0.04884632686209182)],\n",
       " [('mr', 0.21521993736573908),\n",
       "  ('a', 0.104592201471587),\n",
       "  ('s', 0.10067619556799312),\n",
       "  ('ms', 0.09639503549453808),\n",
       "  ('an', 0.08509105056854407),\n",
       "  ('and', 0.08256152524227198),\n",
       "  ('federal', 0.08209497877169679),\n",
       "  ('said', 0.06561489487765908),\n",
       "  ('trump', 0.05701775790118714),\n",
       "  ('private', -0.04237680603297751)],\n",
       " [('speaks', 0.032773148358342406),\n",
       "  ('see', 0.030831848997482803),\n",
       "  ('trying', 0.029692977805841993),\n",
       "  ('damaging', 0.02928563067624419),\n",
       "  ('derelict', 0.02580617427532732),\n",
       "  ('reduction', 0.022242518310217806),\n",
       "  ('nature', 0.02195574459689318),\n",
       "  ('statement', 0.019540033275765763),\n",
       "  ('slogans', 0.01844795369430633),\n",
       "  ('being', 0.015876710076677566)],\n",
       " [('u', 0.16585027115733134),\n",
       "  ('s', 0.13249455662000836),\n",
       "  ('in', 0.07932903420684877),\n",
       "  ('that', 0.07836132789673186),\n",
       "  ('to', 0.07152628049619628),\n",
       "  ('and', 0.07107119953471303),\n",
       "  ('of', 0.06897532671499729),\n",
       "  ('from', 0.06496782622302145),\n",
       "  ('results', 0.06296324489180892),\n",
       "  ('growth', 0.061604995375276334)]]"
      ]
     },
     "execution_count": 31,
     "metadata": {},
     "output_type": "execute_result"
    }
   ],
   "source": [
    "results"
   ]
  },
  {
   "cell_type": "code",
   "execution_count": null,
   "metadata": {},
   "outputs": [],
   "source": []
  }
 ],
 "metadata": {
  "kernelspec": {
   "display_name": "Python 3",
   "language": "python",
   "name": "python3"
  },
  "language_info": {
   "codemirror_mode": {
    "name": "ipython",
    "version": 3
   },
   "file_extension": ".py",
   "mimetype": "text/x-python",
   "name": "python",
   "nbconvert_exporter": "python",
   "pygments_lexer": "ipython3",
   "version": "3.7.1"
  }
 },
 "nbformat": 4,
 "nbformat_minor": 2
}
